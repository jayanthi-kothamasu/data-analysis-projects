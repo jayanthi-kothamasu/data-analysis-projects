{
 "cells": [
  {
   "cell_type": "markdown",
   "metadata": {},
   "source": [
    "# Exercises: Creating, Updating, and Destroying Objects\n",
    "\n",
    "For the exercises, you will be working with objects and data you create. Before opening this notebook, make sure that you have set up the new connection to the server and that you have located the database and your schema.\n",
    "\n",
    "## Object Creation\n",
    "\n",
    "Before coding, think of three things you want to make. These could be coding projects, new recipes, or planned projects for a woodworking hobby. Brainstorm the appropriate column names and data types as well.\n",
    "\n",
    "Create a table under your schema called `planned_makes`."
   ]
  },
  {
   "cell_type": "code",
   "execution_count": null,
   "metadata": {
    "vscode": {
     "languageId": "sql"
    }
   },
   "outputs": [],
   "source": [
    "create table Sep2025JunkDB.jayanthi_kotturi.planned_makes(\n",
    "make_id int primary key identity(1,1),\n",
    "project_name  VARCHAR (150),\n",
    "category VARCHAR (200),\n",
    "planned_date DATE\n",
    ");"
   ]
  },
  {
   "cell_type": "markdown",
   "metadata": {},
   "source": [
    "Add three rows to your table that are your planned makes."
   ]
  },
  {
   "cell_type": "code",
   "execution_count": null,
   "metadata": {
    "vscode": {
     "languageId": "sql"
    }
   },
   "outputs": [],
   "source": [
    "INSERT into Sep2025JunkDB.jayanthi_kotturi.planned_makes(project_name,category,planned_date)\n",
    "values ('Chocolate_cake','dessert','10-24-2025' ),\n",
    "('Biryani','main_course','10-30-2025'),\n",
    "('Candy','snack','10-31-2025');"
   ]
  },
  {
   "cell_type": "markdown",
   "metadata": {},
   "source": [
    "## Update a Row\n",
    "\n",
    "Change different values in one of your three rows."
   ]
  },
  {
   "cell_type": "code",
   "execution_count": null,
   "metadata": {
    "vscode": {
     "languageId": "sql"
    }
   },
   "outputs": [],
   "source": [
    "UPDATE  Sep2025JunkDB.jayanthi_kotturi.planned_makes\n",
    "set project_name = 'Pizza'\n",
    "where category ='snack'"
   ]
  },
  {
   "cell_type": "markdown",
   "metadata": {},
   "source": [
    "## Delete a Row\n",
    "\n",
    "Delete one of the rows from your table."
   ]
  },
  {
   "cell_type": "code",
   "execution_count": null,
   "metadata": {
    "vscode": {
     "languageId": "sql"
    }
   },
   "outputs": [],
   "source": [
    "DELETE from Sep2025JunkDB.jayanthi_kotturi.planned_makes\n",
    "where category = 'snack'"
   ]
  },
  {
   "cell_type": "markdown",
   "metadata": {},
   "source": [
    "## Drop the Table\n",
    "\n",
    "While this has been fun, it is time to drop the table!"
   ]
  },
  {
   "cell_type": "code",
   "execution_count": null,
   "metadata": {
    "vscode": {
     "languageId": "sql"
    }
   },
   "outputs": [],
   "source": [
    "DROP table Sep2025JunkDB.jayanthi_kotturi.planned_makes\n"
   ]
  }
 ],
 "metadata": {
  "language_info": {
   "name": "python"
  }
 },
 "nbformat": 4,
 "nbformat_minor": 2
}
